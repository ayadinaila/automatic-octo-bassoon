{
  "nbformat": 4,
  "nbformat_minor": 0,
  "metadata": {
    "colab": {
      "name": "checkpoint2.ipynb",
      "provenance": [],
      "collapsed_sections": [],
      "authorship_tag": "ABX9TyMpZf/IULUvN6d/cQxdmlu2",
      "include_colab_link": true
    },
    "kernelspec": {
      "name": "python3",
      "display_name": "Python 3"
    }
  },
  "cells": [
    {
      "cell_type": "markdown",
      "metadata": {
        "id": "view-in-github",
        "colab_type": "text"
      },
      "source": [
        "<a href=\"https://colab.research.google.com/github/ayadinaila/automatic-octo-bassoon/blob/main/checkpoint2.ipynb\" target=\"_parent\"><img src=\"https://colab.research.google.com/assets/colab-badge.svg\" alt=\"Open In Colab\"/></a>"
      ]
    },
    {
      "cell_type": "code",
      "metadata": {
        "id": "A87KSBwwcqg5",
        "colab": {
          "base_uri": "https://localhost:8080/"
        },
        "outputId": "bf008182-f96d-4482-c200-35251e6f2e16"
      },
      "source": [
        "#exercice1:\r\n",
        "list=[]\r\n",
        "for x in range(2000,3201):\r\n",
        "     if x%7 == 0 and x%5 != 0 :\r\n",
        "        list.append(x)\r\n",
        "print(list)"
      ],
      "execution_count": null,
      "outputs": [
        {
          "output_type": "stream",
          "text": [
            "[2002, 2009, 2016, 2023, 2037, 2044, 2051, 2058, 2072, 2079, 2086, 2093, 2107, 2114, 2121, 2128, 2142, 2149, 2156, 2163, 2177, 2184, 2191, 2198, 2212, 2219, 2226, 2233, 2247, 2254, 2261, 2268, 2282, 2289, 2296, 2303, 2317, 2324, 2331, 2338, 2352, 2359, 2366, 2373, 2387, 2394, 2401, 2408, 2422, 2429, 2436, 2443, 2457, 2464, 2471, 2478, 2492, 2499, 2506, 2513, 2527, 2534, 2541, 2548, 2562, 2569, 2576, 2583, 2597, 2604, 2611, 2618, 2632, 2639, 2646, 2653, 2667, 2674, 2681, 2688, 2702, 2709, 2716, 2723, 2737, 2744, 2751, 2758, 2772, 2779, 2786, 2793, 2807, 2814, 2821, 2828, 2842, 2849, 2856, 2863, 2877, 2884, 2891, 2898, 2912, 2919, 2926, 2933, 2947, 2954, 2961, 2968, 2982, 2989, 2996, 3003, 3017, 3024, 3031, 3038, 3052, 3059, 3066, 3073, 3087, 3094, 3101, 3108, 3122, 3129, 3136, 3143, 3157, 3164, 3171, 3178, 3192, 3199]\n"
          ],
          "name": "stdout"
        }
      ]
    },
    {
      "cell_type": "code",
      "metadata": {
        "colab": {
          "base_uri": "https://localhost:8080/"
        },
        "id": "CtEm-6iTFJX-",
        "outputId": "16e99f55-f3a4-4c58-e0c8-e2da27c46c9c"
      },
      "source": [
        "#exercice2:\r\n",
        "x = int(input())\r\n",
        "fact = 1\r\n",
        "for i in range(2, x+1):\r\n",
        "  fact = fact * i\r\n",
        "print (x,'! = ',fact)\r\n"
      ],
      "execution_count": 78,
      "outputs": [
        {
          "output_type": "stream",
          "text": [
            "3\n",
            "3 ! =  6\n"
          ],
          "name": "stdout"
        }
      ]
    },
    {
      "cell_type": "code",
      "metadata": {
        "colab": {
          "base_uri": "https://localhost:8080/"
        },
        "id": "fqVVnNcGG4Ba",
        "outputId": "52546748-7942-4c7b-bdbf-f1e59472f930"
      },
      "source": [
        "#exercice3:\r\n",
        "n=int(input())\r\n",
        "dict={}\r\n",
        "i=1\r\n",
        "while i<n+1 :\r\n",
        "     dict[i]=i*i\r\n",
        "     i=i+1\r\n",
        "print(dict)"
      ],
      "execution_count": null,
      "outputs": [
        {
          "output_type": "stream",
          "text": [
            "8\n",
            "{1: 1, 2: 4, 3: 9, 4: 16, 5: 25, 6: 36, 7: 49, 8: 64}\n"
          ],
          "name": "stdout"
        }
      ]
    },
    {
      "cell_type": "code",
      "metadata": {
        "colab": {
          "base_uri": "https://localhost:8080/"
        },
        "id": "MzhbQJUbNV-F",
        "outputId": "361772fb-80e5-45ff-b6b7-241489ccf280"
      },
      "source": [
        "#exercice4:\r\n",
        "ch=str(input(\" entrer un mot \"))\r\n",
        "n=int(input(\" entrer un entier \"))\r\n",
        "x=len(ch)\r\n",
        "debut=ch[0:n]\r\n",
        "fin=ch[n+1:x+1]\r\n",
        "print(debut+fin)"
      ],
      "execution_count": 79,
      "outputs": [
        {
          "output_type": "stream",
          "text": [
            " entrer un mot checkpoint\n",
            " entrer un entier 4\n",
            "checpoint\n"
          ],
          "name": "stdout"
        }
      ]
    },
    {
      "cell_type": "code",
      "metadata": {
        "colab": {
          "base_uri": "https://localhost:8080/"
        },
        "id": "fakO4CiwYeBh",
        "outputId": "e5dfda4f-1e1c-41bf-bdcc-3efaca3b67c6"
      },
      "source": [
        "#exercice5:\r\n",
        "import numpy as np \r\n",
        "arr=np.array( [[0,1],[2,3],[4,5]] )\r\n",
        "print(\"the last array; \",arr)\r\n",
        "print(\"the new array : \" , arr.tolist())"
      ],
      "execution_count": 80,
      "outputs": [
        {
          "output_type": "stream",
          "text": [
            "the last array;  [[0 1]\n",
            " [2 3]\n",
            " [4 5]]\n",
            "the new array :  [[0, 1], [2, 3], [4, 5]]\n"
          ],
          "name": "stdout"
        }
      ]
    },
    {
      "cell_type": "code",
      "metadata": {
        "colab": {
          "base_uri": "https://localhost:8080/"
        },
        "id": "O0sr73lpeh2z",
        "outputId": "e934ff8d-61ed-4f9d-9520-18ff962a5356"
      },
      "source": [
        "#exercice6:\r\n",
        "import numpy as np \r\n",
        "tab1=np.array([0,1,2])\r\n",
        "tab2=np.array([2,1,0])\r\n",
        "print(tab1)\r\n",
        "print(tab2)\r\n",
        "print(\"la matrice covariance est : \" , np.cov(tab1,tab2))\r\n",
        "\r\n"
      ],
      "execution_count": 67,
      "outputs": [
        {
          "output_type": "stream",
          "text": [
            "[0 1 2]\n",
            "[2 1 0]\n",
            "la matrice covariance est :  [[ 1. -1.]\n",
            " [-1.  1.]]\n"
          ],
          "name": "stdout"
        }
      ]
    },
    {
      "cell_type": "code",
      "metadata": {
        "id": "kfgbZMqmMTVt",
        "colab": {
          "base_uri": "https://localhost:8080/"
        },
        "outputId": "606b7d17-25d2-464e-efb5-f4f34a3f15db"
      },
      "source": [
        "#exercice7:\r\n",
        "import math\r\n",
        "c=50\r\n",
        "h=30\r\n",
        "numbers = input(\"Provide d: \")\r\n",
        "numbers = numbers.split(',')\r\n",
        "\r\n",
        "reslist = []\r\n",
        "for d in numbers:\r\n",
        "     Q = round(math.sqrt(2 * 50 * int(d) / 30))\r\n",
        "     reslist.append(Q)\r\n",
        "\r\n",
        "print(reslist)\r\n"
      ],
      "execution_count": 77,
      "outputs": [
        {
          "output_type": "stream",
          "text": [
            "Provide d: 100,150,180\n",
            "[18, 22, 24]\n"
          ],
          "name": "stdout"
        }
      ]
    },
    {
      "cell_type": "code",
      "metadata": {
        "id": "8Fjgu7arQt3U"
      },
      "source": [
        ""
      ],
      "execution_count": 77,
      "outputs": []
    }
  ]
}